{
  "cells": [
    {
      "cell_type": "markdown",
      "metadata": {
        "id": "view-in-github",
        "colab_type": "text"
      },
      "source": [
        "<a href=\"https://colab.research.google.com/github/FelipeSSNotebook/Programa-o-Anchieta/blob/main/atividade_dia24.ipynb\" target=\"_parent\"><img src=\"https://colab.research.google.com/assets/colab-badge.svg\" alt=\"Open In Colab\"/></a>"
      ]
    },
    {
      "cell_type": "markdown",
      "source": [
        "**Primeiro Código**"
      ],
      "metadata": {
        "id": "aLKNQId8xHGt"
      }
    },
    {
      "cell_type": "code",
      "source": [
        "#Importancia do tipo de variaveis\n",
        "a = 2\n",
        "print(type(a))\n",
        "b = 3.1\n",
        "print(type(b))\n",
        "soma = a + b\n",
        "print(type(soma))\n",
        "print(soma)"
      ],
      "metadata": {
        "id": "48xtBb8pxP84",
        "outputId": "8a1ee697-97d3-44cf-de82-d4082676e9dd",
        "colab": {
          "base_uri": "https://localhost:8080/"
        }
      },
      "execution_count": null,
      "outputs": [
        {
          "output_type": "stream",
          "name": "stdout",
          "text": [
            "<class 'int'>\n",
            "<class 'float'>\n",
            "<class 'float'>\n",
            "5.1\n"
          ]
        }
      ]
    },
    {
      "cell_type": "markdown",
      "source": [
        "# **Lembrar que sempre que quiser calcular é preciso informar que estou lidando com N° inteiro ou float**"
      ],
      "metadata": {
        "id": "lP28cSlKyEcS"
      }
    },
    {
      "cell_type": "markdown",
      "source": [
        "**Segundo Código**"
      ],
      "metadata": {
        "id": "dEPnJAaX0mx6"
      }
    },
    {
      "cell_type": "code",
      "source": [
        "num = int(input(\"Digite um valor inteiro: \"))\n",
        "print(type(num))\n",
        "quoc = num//2\n",
        "resto = num%2\n",
        "print(quoc)\n",
        "print(resto)\n"
      ],
      "metadata": {
        "id": "7PrGxIYU0sgD",
        "outputId": "746ad3b9-a6fc-40cf-ffdb-534e2e2209bd",
        "colab": {
          "base_uri": "https://localhost:8080/"
        }
      },
      "execution_count": null,
      "outputs": [
        {
          "output_type": "stream",
          "name": "stdout",
          "text": [
            "Digite um valor inteiro: 5\n",
            "<class 'int'>\n",
            "2\n",
            "1\n"
          ]
        }
      ]
    },
    {
      "cell_type": "markdown",
      "source": [
        "**Exercício 01**\n",
        "\n",
        "\n",
        "---\n",
        "\n"
      ],
      "metadata": {
        "id": "DEC65B4f1FpM"
      }
    },
    {
      "cell_type": "code",
      "source": [
        "b = float(input(\"Digite o valor da base: \"))\n",
        "a = float(input(\"Digite o valor da altura: \"))\n",
        "area = (b*a)/2\n",
        "print(\"A área do triângulo é: \", area)"
      ],
      "metadata": {
        "id": "tIMjv3651Km9",
        "outputId": "4e16be2f-e93a-4ad2-cb59-29b66070471d",
        "colab": {
          "base_uri": "https://localhost:8080/"
        }
      },
      "execution_count": null,
      "outputs": [
        {
          "output_type": "stream",
          "name": "stdout",
          "text": [
            "Digite o valor da base: 5\n",
            "Digite o valor da altura: 6\n",
            "A área do triângulo é:  15.0\n"
          ]
        }
      ]
    },
    {
      "cell_type": "markdown",
      "source": [
        "**Exercício 02**\n",
        "\n",
        "\n",
        "---\n",
        "\n"
      ],
      "metadata": {
        "id": "EpJCpHh7-Ltm"
      }
    },
    {
      "cell_type": "code",
      "source": [
        "P = float(input(\"Digite valor em polegada: \"))\n",
        "mm = P*25.4\n",
        "print(\"O valor Pol em mm é: \", mm)\n"
      ],
      "metadata": {
        "id": "gYjXiLOn-aLw",
        "outputId": "6ff21a37-2bac-4587-bfbb-4ff8cd2cc4f2",
        "colab": {
          "base_uri": "https://localhost:8080/"
        }
      },
      "execution_count": null,
      "outputs": [
        {
          "output_type": "stream",
          "name": "stdout",
          "text": [
            "Digite valor em polegada: 2\n",
            "O valor Pol em mm é:  50.8\n"
          ]
        }
      ]
    },
    {
      "cell_type": "markdown",
      "source": [
        "## **Exercício 05:**\n",
        "\n",
        "\n",
        "---\n",
        "\n",
        "\n",
        "\n",
        "**Narrativa:**\n",
        "\n",
        "\n",
        "**Pseudocódigo:**\n",
        "\n",
        "\n",
        "**Fluxograma:**"
      ],
      "metadata": {
        "id": "ASOOrzYA_ng4"
      }
    },
    {
      "cell_type": "code",
      "source": [
        " from math import pi\n",
        " R = float(input(\"Digite o valor do raio: \"))\n",
        " Ve = (pi*R**3)/3\n",
        " print(\"O valor do volume da esfera é: \", Ve)"
      ],
      "metadata": {
        "id": "etUkYKmvBZjj",
        "outputId": "49a82d7f-3325-469c-88d3-48b25f8ce843",
        "colab": {
          "base_uri": "https://localhost:8080/"
        }
      },
      "execution_count": null,
      "outputs": [
        {
          "output_type": "stream",
          "name": "stdout",
          "text": [
            "Digite o valor do raio: 6\n",
            "O valor do volume da esfera é:  226.1946710584651\n"
          ]
        }
      ]
    },
    {
      "cell_type": "markdown",
      "source": [
        "## **Exercício 06**\n",
        "\n",
        "\n",
        "---\n",
        "\n",
        "\n",
        "\n",
        "**Narrativa:**\n",
        "\n",
        "**Pseudocódigo:**\n",
        "\n",
        "**Fluxograma:**\n",
        "\n",
        "\n"
      ],
      "metadata": {
        "id": "Ea4YOtkiDLfO"
      }
    },
    {
      "cell_type": "code",
      "source": [
        "from math import pi\n",
        "G = float(input(\"Digite o valor do grau q deseja converter: \"))\n",
        "Ra = (G*pi)/180\n",
        "print(\"O valor em radianos é: \", Ra)"
      ],
      "metadata": {
        "id": "mtnIj_iEDk2v",
        "outputId": "fa5c13d0-9811-419b-e779-0061d41f2950",
        "colab": {
          "base_uri": "https://localhost:8080/"
        }
      },
      "execution_count": null,
      "outputs": [
        {
          "output_type": "stream",
          "name": "stdout",
          "text": [
            "Digite o valor do grau q deseja converter: 8\n",
            "O valor em radianos é:  0.13962634015954636\n"
          ]
        }
      ]
    },
    {
      "cell_type": "markdown",
      "source": [
        "## **Exercício 07**\n",
        "\n",
        "\n",
        "---\n",
        "\n",
        "\n",
        "\n",
        "**Narrativa:**\n",
        "\n",
        "\n",
        "**Pseudocodigo:**\n",
        "\n",
        "**Fluxograma:**\n",
        "\n",
        "\n"
      ],
      "metadata": {
        "id": "x-eB1qKbEtTA"
      }
    },
    {
      "cell_type": "code",
      "source": [
        "from math import pi\n",
        "Ar = float(input(\"Digite o valor do ângulo em radianos: \"))\n",
        "Gr = (Ar*180)/pi\n",
        "print(\"O valor em graus é: \", Gr)"
      ],
      "metadata": {
        "id": "MRWs2JIDFKkL",
        "outputId": "e70236e9-bc62-4d89-f619-352724e3265f",
        "colab": {
          "base_uri": "https://localhost:8080/"
        }
      },
      "execution_count": null,
      "outputs": [
        {
          "output_type": "stream",
          "name": "stdout",
          "text": [
            "Digite o valor do ângulo em radianos: 5\n",
            "O valor em graus é:  286.4788975654116\n"
          ]
        }
      ]
    },
    {
      "cell_type": "markdown",
      "source": [
        "## **Exercício 08**\n",
        "\n",
        "\n",
        "---\n",
        "\n",
        "\n",
        "\n",
        "**Narratia:**\n",
        "\n",
        "Este programa converte um valor de ângulo dado em radianos para grados (uma unidade de medida de ângulos usada em alguns sistemas). O usuário é solicitado a inserir o valor de um ângulo em radianos, que é então convertido em grados usando a fórmula G = Ar*200/pi, onde G é o valor em grados e Ar é o valor em radianos. O resultado é exibido ao final.\n",
        "\n",
        "\n",
        "**Pseudocógido:**\n",
        "\n",
        "Início:\n",
        "\n",
        "    Importar a constante pi da biblioteca math\n",
        "    Exibir mensagem \"Digite o valor do ângulo em radianos: \"\n",
        "    Ler o valor de Ar (ângulo em radianos)\n",
        "    Calcular G usando a fórmula: G = (Ar * 200) / pi\n",
        "    Exibir o valor de G em grados\n",
        "  \n",
        "Fim.\n",
        "\n",
        "**Fluxograma**:\n",
        "\n",
        "1- Início\n",
        "\n",
        "2- Entrada de Dados\n",
        "   *Perguntar ao usuário o valor do ângulo em radianos.\n",
        "\n",
        "3- Processamento\n",
        "   *Calcular o valor de grados usando a fómula G = Ar*200/pi.\n",
        "\n",
        "4- Saída de Dados\n",
        "   *Exibir o resultado do cálculo em grados.\n",
        "\n",
        "5- Fim.\n"
      ],
      "metadata": {
        "id": "k0edBDCaGO1K"
      }
    },
    {
      "cell_type": "code",
      "source": [
        "from math import pi\n",
        "Ar = float(input(\"Digite o valor do angulo radiano : \"))\n",
        "G = (Ar*200)/pi\n",
        "print(\"O valor em grados é: \", G)"
      ],
      "metadata": {
        "id": "hT1O_I2ZHs4z",
        "outputId": "495e4eeb-0f79-455d-edf6-11afbfb49518",
        "colab": {
          "base_uri": "https://localhost:8080/"
        }
      },
      "execution_count": null,
      "outputs": [
        {
          "output_type": "stream",
          "name": "stdout",
          "text": [
            "Digite o valor do angulo radiano : 56\n",
            "O valor em grados é:  3565.0707252584557\n"
          ]
        }
      ]
    },
    {
      "cell_type": "markdown",
      "source": [
        "# **Tema  -  SE(if)   ......     Senão(else)**\n"
      ],
      "metadata": {
        "id": "N0swh1ZvCtVK"
      }
    },
    {
      "cell_type": "markdown",
      "source": [
        "# **Exemplo 1 Programa para verificar se PAR ou Ímpar**"
      ],
      "metadata": {
        "id": "fmXl9uq5KIDe"
      }
    },
    {
      "cell_type": "code",
      "source": [
        "# Solicita ao usuário que insira um número\n",
        "numero = int(input(\"Digite um número inteiro: \"))\n",
        "\n",
        "# Verifica se o número é par ou ímpar\n",
        "if numero % 2 == 0:\n",
        "    print(f\"{numero} é um número par.\")\n",
        "else:\n",
        "    print(f\"{numero} é um número ímpar.\")\n",
        "\n"
      ],
      "metadata": {
        "id": "FMA1acbxEySO",
        "outputId": "f4c1a76e-c337-4117-a60e-693c3de50e2d",
        "colab": {
          "base_uri": "https://localhost:8080/"
        }
      },
      "execution_count": null,
      "outputs": [
        {
          "output_type": "stream",
          "name": "stdout",
          "text": [
            "Digite um número inteiro: 0\n",
            "0 é um número par.\n"
          ]
        }
      ]
    },
    {
      "cell_type": "markdown",
      "source": [
        "# **Exemplo 4 Raiz Quadrada**"
      ],
      "metadata": {
        "id": "pcnXd0EZMu2l"
      }
    },
    {
      "cell_type": "code",
      "source": [
        "import math\n",
        "\n",
        "#Solicita ao usuario que insira um numero\n",
        "numero = float(input(\"Digite um número: \"))\n",
        "\n",
        "#Verifica se o número é maior ou igual a zero\n",
        "if numero >= 0:\n",
        "    raiz = math.sqrt(numero)\n",
        "    print(f\"A raiz quadrada de {numero} é {raiz: .2f}.\")\n",
        "else:\n",
        "    print(\"Não existe raiz real para esse numero\")"
      ],
      "metadata": {
        "id": "knYfUpsaNRpI",
        "outputId": "2a111c93-2b50-4aa8-8a9a-d6331fae0df4",
        "colab": {
          "base_uri": "https://localhost:8080/"
        }
      },
      "execution_count": null,
      "outputs": [
        {
          "output_type": "stream",
          "name": "stdout",
          "text": [
            "Digite um número: 5\n",
            "A raiz quadrada de 5.0 é  2.24.\n"
          ]
        }
      ]
    },
    {
      "cell_type": "markdown",
      "source": [
        "# **Exercicio 1**\n",
        "\n"
      ],
      "metadata": {
        "id": "hBtwmCYFPvQf"
      }
    },
    {
      "cell_type": "code",
      "source": [
        "# Solicita ao úsuario que insira o comprimento e a largura da camiseta\n",
        "comprimento = float(input(\"Digite o comprimento da camiseta em centimetros: \"))\n",
        "largura = float(input(\"Digite a largura da camiseta em centimetros: \"))\n",
        " # Determine o tamanho da casiseta com base no comprimento e largura\n",
        "if comprimento <= 60 and largura <= 45:\n",
        "  tamanho = \"PP\"\n",
        "elif comprimento <= 65 and largura <= 48:\n",
        "  tamanho = \"P\"\n",
        "elif comprimento <= 70 and largura <= 51:\n",
        "  tamanho = \"M\"\n",
        "elif comprimento <= 75 and largura <= 54:\n",
        "  tamanho = \"G\"\n",
        "elif comprimento <= 80 and largura <= 57:\n",
        "  tamanho = \"GG\"\n",
        "else:\n",
        "  tamanho = \"XGG\"\n",
        "# exibe o tamanho da camiseta\n",
        "print(f\"O tamanho da camiseta é {tamanho}.\")\n"
      ],
      "metadata": {
        "id": "GxY9bdr-PzDX",
        "outputId": "0f005690-23f6-4686-8a4c-ae01a0e19ad0",
        "colab": {
          "base_uri": "https://localhost:8080/"
        }
      },
      "execution_count": null,
      "outputs": [
        {
          "output_type": "stream",
          "name": "stdout",
          "text": [
            "Digite o comprimento da camiseta em centimetros: 50\n",
            "Digite a largura da camiseta em centimetros: 50\n",
            "O tamanho da camiseta é M.\n"
          ]
        }
      ]
    },
    {
      "cell_type": "markdown",
      "source": [
        "# **ATT dia 17**"
      ],
      "metadata": {
        "id": "-ObzvR5kEfIZ"
      }
    },
    {
      "cell_type": "code",
      "source": [
        "N1 = int(input(\"Digite um valor inteiro: \"))\n",
        "R = N1%3\n",
        "if R == 0:\n",
        "  print(\"O numero é múltiplo de 3\")\n",
        "else:\n",
        "  print(\"O numero não é múltiplo de 3\")\n",
        "\n"
      ],
      "metadata": {
        "id": "CHDEhBKhEjmC",
        "outputId": "8faca557-bd39-4876-cc4b-82b594201ad9",
        "colab": {
          "base_uri": "https://localhost:8080/"
        }
      },
      "execution_count": null,
      "outputs": [
        {
          "output_type": "stream",
          "name": "stdout",
          "text": [
            "Digite um valor inteiro: 44444443\n",
            "O numero não é múltiplo de 3\n"
          ]
        }
      ]
    },
    {
      "cell_type": "markdown",
      "source": [
        "# **ATT 2**"
      ],
      "metadata": {
        "id": "UG_la1OAGIPr"
      }
    },
    {
      "cell_type": "code",
      "source": [
        "n1 = float(input(\"Digite o valor da primeira nota: \"))\n",
        "n2 = float(input(\"Digite o valor da segunda nota: \"))\n",
        "\n",
        "N1 = n1*0.2\n",
        "N2 = n2*0.3\n",
        "NF = N1+N2\n",
        "if NF >= 5:\n",
        "  print(f\"A média foi {NF} então vc está aprovado{NF: .2f}\")\n",
        "else:\n",
        "  print(f\"A média foi {NF} então vc está reprovado{NF: .2f}\")"
      ],
      "metadata": {
        "id": "V1T366BHGK8D",
        "outputId": "41262168-bfde-4415-a1ec-48f9d4e82acf",
        "colab": {
          "base_uri": "https://localhost:8080/"
        }
      },
      "execution_count": null,
      "outputs": [
        {
          "output_type": "stream",
          "name": "stdout",
          "text": [
            "Digite o valor da primeira nota: 8\n",
            "Digite o valor da segunda nota: 7\n",
            "A média foi 3.7 então vc está aprovado 3.70\n"
          ]
        }
      ]
    },
    {
      "cell_type": "markdown",
      "source": [
        "# **ATT 3**"
      ],
      "metadata": {
        "id": "3Ej8uh0YJxCB"
      }
    },
    {
      "cell_type": "code",
      "source": [
        "n1 = float(input(\"Digite o primeiro valor: \"))\n",
        "n2 = float(input(\"Digite o segundo valor: \"))\n",
        "n3 = float(input(\"Digite o terceiro valor: \"))\n",
        "\n",
        "if n1 <= n2 and n1 <= n3:\n",
        "  print(f\"O menor valor é {n1}\")\n",
        "elif n2 <= n1 and n2 <= n3:\n",
        "  print(f\"O menor valor é {n2}\")\n",
        "else:\n",
        "  print(f\"O menor valor é {n3}\")\n"
      ],
      "metadata": {
        "id": "XN3V_PFXJ2NI",
        "outputId": "f0b7532a-3bfb-4e9d-ced1-f570f5b975a1",
        "colab": {
          "base_uri": "https://localhost:8080/"
        }
      },
      "execution_count": null,
      "outputs": [
        {
          "output_type": "stream",
          "name": "stdout",
          "text": [
            "Digite o primeiro valor: 1\n",
            "Digite o segundo valor: 0.2\n",
            "Digite o terceiro valor: 0.19\n",
            "O menor valor é 0.19\n"
          ]
        }
      ]
    },
    {
      "cell_type": "markdown",
      "source": [
        "# **Dia 24/09**"
      ],
      "metadata": {
        "id": "NhbNuJC8I_LR"
      }
    },
    {
      "cell_type": "markdown",
      "source": [
        "Contar 10 numeros com for\n"
      ],
      "metadata": {
        "id": "KplZ0pqlKQrJ"
      }
    },
    {
      "cell_type": "code",
      "source": [
        "for i in range(10):\n",
        "  print(i)"
      ],
      "metadata": {
        "id": "6ntC4co_KWwy",
        "outputId": "1d92b275-5fa3-45e9-929b-b3a25e305394",
        "colab": {
          "base_uri": "https://localhost:8080/"
        }
      },
      "execution_count": 4,
      "outputs": [
        {
          "output_type": "stream",
          "name": "stdout",
          "text": [
            "0\n",
            "1\n",
            "2\n",
            "3\n",
            "4\n",
            "5\n",
            "6\n",
            "7\n",
            "8\n",
            "9\n"
          ]
        }
      ]
    },
    {
      "cell_type": "markdown",
      "source": [
        "contar ate 10 com range"
      ],
      "metadata": {
        "id": "ucqPsRD5LA_m"
      }
    },
    {
      "cell_type": "code",
      "source": [
        "for i in range(0,10,1):\n",
        "  print(i)"
      ],
      "metadata": {
        "id": "amZoD5djKxNN",
        "outputId": "4922259a-1149-4059-ac52-576d9fa6d72b",
        "colab": {
          "base_uri": "https://localhost:8080/"
        }
      },
      "execution_count": 6,
      "outputs": [
        {
          "output_type": "stream",
          "name": "stdout",
          "text": [
            "0\n",
            "1\n",
            "2\n",
            "3\n",
            "4\n",
            "5\n",
            "6\n",
            "7\n",
            "8\n",
            "9\n"
          ]
        }
      ]
    },
    {
      "cell_type": "code",
      "source": [
        "for i in range(0,10):\n",
        "  print(i)"
      ],
      "metadata": {
        "id": "AOBqjbRfLRk4",
        "outputId": "cbeaf83e-6f1f-4514-b864-bbe79c229c6a",
        "colab": {
          "base_uri": "https://localhost:8080/"
        }
      },
      "execution_count": 8,
      "outputs": [
        {
          "output_type": "stream",
          "name": "stdout",
          "text": [
            "0\n",
            "1\n",
            "2\n",
            "3\n",
            "4\n",
            "5\n",
            "6\n",
            "7\n",
            "8\n",
            "9\n"
          ]
        }
      ]
    },
    {
      "cell_type": "markdown",
      "source": [
        "contar usando while"
      ],
      "metadata": {
        "id": "Kyq_Hb0bLbqZ"
      }
    },
    {
      "cell_type": "code",
      "source": [
        "i=0\n",
        "while i < 10:\n",
        "  print(i)\n",
        "  i=i+1\n",
        "\n"
      ],
      "metadata": {
        "id": "Wk1haQr5Lfph",
        "outputId": "7c263b37-4dd7-4837-c6a4-2ff2bbcc8b9c",
        "colab": {
          "base_uri": "https://localhost:8080/"
        }
      },
      "execution_count": 13,
      "outputs": [
        {
          "output_type": "stream",
          "name": "stdout",
          "text": [
            "0\n",
            "1\n",
            "2\n",
            "3\n",
            "4\n",
            "5\n",
            "6\n",
            "7\n",
            "8\n",
            "9\n"
          ]
        }
      ]
    },
    {
      "cell_type": "markdown",
      "source": [
        "codigo utilizando while como pergunta"
      ],
      "metadata": {
        "id": "yOieSbdZNKXd"
      }
    },
    {
      "cell_type": "code",
      "source": [
        "while True:\n",
        "  resposta = input(\"Deseja realizar uma soma? (sim/nao): \").lower()\n",
        "  if resposta == \"sim\":\n",
        "    num1 = float(input(\"Digite o primeiro numero: \"))\n",
        "    num2 = float(input(\"Digite o segundo numero: \"))\n",
        "    soma = num1 + num2\n",
        "    print(f\"A soma de {num1} e {num2} é {soma}\")\n",
        "  elif resposta == \"nao\":\n",
        "\n",
        "    print(\"Obrigado por utilizar o programa\")\n",
        "    break\n",
        "  else:\n",
        "    print(\"Resposta invalida. Por favor, responda com 'sim' ou 'nao'.\")\n",
        "\n",
        "\n",
        "\n"
      ],
      "metadata": {
        "id": "h8Lc7WucNO-l",
        "outputId": "9524a4ff-d8e3-482c-9ca2-d0065ffa22af",
        "colab": {
          "base_uri": "https://localhost:8080/"
        }
      },
      "execution_count": 30,
      "outputs": [
        {
          "output_type": "stream",
          "name": "stdout",
          "text": [
            "Deseja realizar uma soma? (sim/nao): dsnks\n",
            "Resposta invalida. Por favor, responda com 'sim' ou 'nao'.\n",
            "Deseja realizar uma soma? (sim/nao): SIM\n",
            "Digite o primeiro numero: 9\n",
            "Digite o segundo numero: 5\n",
            "A soma de 9.0 e 5.0 é 14.0\n",
            "Deseja realizar uma soma? (sim/nao): nao\n",
            "Obrigado por utilizar o programa\n"
          ]
        }
      ]
    }
  ],
  "metadata": {
    "colab": {
      "name": "Olá, este é o Colaboratory",
      "toc_visible": true,
      "provenance": [],
      "include_colab_link": true
    },
    "kernelspec": {
      "display_name": "Python 3",
      "name": "python3"
    }
  },
  "nbformat": 4,
  "nbformat_minor": 0
}