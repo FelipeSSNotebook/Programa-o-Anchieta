{
  "cells": [
    {
      "cell_type": "markdown",
      "metadata": {
        "id": "view-in-github",
        "colab_type": "text"
      },
      "source": [
        "<a href=\"https://colab.research.google.com/github/FelipeSSNotebook/Programa-o-Anchieta/blob/main/Ol%C3%A1%2C_este_%C3%A9_o_Colaboratory.ipynb\" target=\"_parent\"><img src=\"https://colab.research.google.com/assets/colab-badge.svg\" alt=\"Open In Colab\"/></a>"
      ]
    },
    {
      "cell_type": "markdown",
      "source": [
        "**Primeiro Código **"
      ],
      "metadata": {
        "id": "aLKNQId8xHGt"
      }
    },
    {
      "cell_type": "code",
      "source": [
        "#Importancia do tipo de variaveis\n",
        "a = 2\n",
        "print(type(a))\n",
        "b = 3.1\n",
        "print(type(b))\n",
        "soma = a + b\n",
        "print(type(soma))\n",
        "print(soma)"
      ],
      "metadata": {
        "id": "48xtBb8pxP84",
        "outputId": "8a1ee697-97d3-44cf-de82-d4082676e9dd",
        "colab": {
          "base_uri": "https://localhost:8080/"
        }
      },
      "execution_count": 1,
      "outputs": [
        {
          "output_type": "stream",
          "name": "stdout",
          "text": [
            "<class 'int'>\n",
            "<class 'float'>\n",
            "<class 'float'>\n",
            "5.1\n"
          ]
        }
      ]
    },
    {
      "cell_type": "markdown",
      "source": [
        "# **Lembrar que sempre que quiser calcular é preciso informar que estou lidando com N° inteiro ou float **"
      ],
      "metadata": {
        "id": "lP28cSlKyEcS"
      }
    },
    {
      "cell_type": "markdown",
      "source": [
        "**Segundo Código**"
      ],
      "metadata": {
        "id": "dEPnJAaX0mx6"
      }
    },
    {
      "cell_type": "code",
      "source": [
        "num = int(input(\"Digite um valor inteiro: \"))\n",
        "print(type(num))\n",
        "quoc = num//2\n",
        "resto = num%2\n",
        "print(quoc)\n",
        "print(resto)\n"
      ],
      "metadata": {
        "id": "7PrGxIYU0sgD",
        "outputId": "746ad3b9-a6fc-40cf-ffdb-534e2e2209bd",
        "colab": {
          "base_uri": "https://localhost:8080/"
        }
      },
      "execution_count": 2,
      "outputs": [
        {
          "output_type": "stream",
          "name": "stdout",
          "text": [
            "Digite um valor inteiro: 5\n",
            "<class 'int'>\n",
            "2\n",
            "1\n"
          ]
        }
      ]
    },
    {
      "cell_type": "markdown",
      "source": [
        "**Exercício 01**"
      ],
      "metadata": {
        "id": "DEC65B4f1FpM"
      }
    },
    {
      "cell_type": "code",
      "source": [
        "b = float(input(\"Digite o valor da base: \"))\n",
        "a = float(input(\"Digite o valor da altura: \"))\n",
        "area = (b*a)/2\n",
        "print(\"A área do triângulo é: \", area)"
      ],
      "metadata": {
        "id": "tIMjv3651Km9",
        "outputId": "4e16be2f-e93a-4ad2-cb59-29b66070471d",
        "colab": {
          "base_uri": "https://localhost:8080/"
        }
      },
      "execution_count": 3,
      "outputs": [
        {
          "output_type": "stream",
          "name": "stdout",
          "text": [
            "Digite o valor da base: 5\n",
            "Digite o valor da altura: 6\n",
            "A área do triângulo é:  15.0\n"
          ]
        }
      ]
    }
  ],
  "metadata": {
    "colab": {
      "name": "Olá, este é o Colaboratory",
      "toc_visible": true,
      "provenance": [],
      "include_colab_link": true
    },
    "kernelspec": {
      "display_name": "Python 3",
      "name": "python3"
    }
  },
  "nbformat": 4,
  "nbformat_minor": 0
}