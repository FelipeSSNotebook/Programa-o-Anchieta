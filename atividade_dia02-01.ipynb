{
  "cells": [
    {
      "cell_type": "markdown",
      "metadata": {
        "id": "view-in-github",
        "colab_type": "text"
      },
      "source": [
        "<a href=\"https://colab.research.google.com/github/FelipeSSNotebook/Programa-o-Anchieta/blob/main/atividade_dia02-01.ipynb\" target=\"_parent\"><img src=\"https://colab.research.google.com/assets/colab-badge.svg\" alt=\"Open In Colab\"/></a>"
      ]
    },
    {
      "cell_type": "markdown",
      "source": [
        "**Primeiro Código **"
      ],
      "metadata": {
        "id": "aLKNQId8xHGt"
      }
    },
    {
      "cell_type": "code",
      "source": [
        "#Importancia do tipo de variaveis\n",
        "a = 2\n",
        "print(type(a))\n",
        "b = 3.1\n",
        "print(type(b))\n",
        "soma = a + b\n",
        "print(type(soma))\n",
        "print(soma)"
      ],
      "metadata": {
        "id": "48xtBb8pxP84",
        "outputId": "8a1ee697-97d3-44cf-de82-d4082676e9dd",
        "colab": {
          "base_uri": "https://localhost:8080/"
        }
      },
      "execution_count": null,
      "outputs": [
        {
          "output_type": "stream",
          "name": "stdout",
          "text": [
            "<class 'int'>\n",
            "<class 'float'>\n",
            "<class 'float'>\n",
            "5.1\n"
          ]
        }
      ]
    },
    {
      "cell_type": "markdown",
      "source": [
        "# **Lembrar que sempre que quiser calcular é preciso informar que estou lidando com N° inteiro ou float **"
      ],
      "metadata": {
        "id": "lP28cSlKyEcS"
      }
    },
    {
      "cell_type": "markdown",
      "source": [
        "**Segundo Código**"
      ],
      "metadata": {
        "id": "dEPnJAaX0mx6"
      }
    },
    {
      "cell_type": "code",
      "source": [
        "num = int(input(\"Digite um valor inteiro: \"))\n",
        "print(type(num))\n",
        "quoc = num//2\n",
        "resto = num%2\n",
        "print(quoc)\n",
        "print(resto)\n"
      ],
      "metadata": {
        "id": "7PrGxIYU0sgD",
        "outputId": "746ad3b9-a6fc-40cf-ffdb-534e2e2209bd",
        "colab": {
          "base_uri": "https://localhost:8080/"
        }
      },
      "execution_count": null,
      "outputs": [
        {
          "output_type": "stream",
          "name": "stdout",
          "text": [
            "Digite um valor inteiro: 5\n",
            "<class 'int'>\n",
            "2\n",
            "1\n"
          ]
        }
      ]
    },
    {
      "cell_type": "markdown",
      "source": [
        "**Exercício 01**\n",
        "\n",
        "\n",
        "---\n",
        "\n"
      ],
      "metadata": {
        "id": "DEC65B4f1FpM"
      }
    },
    {
      "cell_type": "code",
      "source": [
        "b = float(input(\"Digite o valor da base: \"))\n",
        "a = float(input(\"Digite o valor da altura: \"))\n",
        "area = (b*a)/2\n",
        "print(\"A área do triângulo é: \", area)"
      ],
      "metadata": {
        "id": "tIMjv3651Km9",
        "outputId": "4e16be2f-e93a-4ad2-cb59-29b66070471d",
        "colab": {
          "base_uri": "https://localhost:8080/"
        }
      },
      "execution_count": null,
      "outputs": [
        {
          "output_type": "stream",
          "name": "stdout",
          "text": [
            "Digite o valor da base: 5\n",
            "Digite o valor da altura: 6\n",
            "A área do triângulo é:  15.0\n"
          ]
        }
      ]
    },
    {
      "cell_type": "markdown",
      "source": [
        "**Exercício 02**\n",
        "\n",
        "\n",
        "---\n",
        "\n"
      ],
      "metadata": {
        "id": "EpJCpHh7-Ltm"
      }
    },
    {
      "cell_type": "code",
      "source": [
        "P = float(input(\"Digite valor em polegada: \"))\n",
        "mm = P*25.4\n",
        "print(\"O valor Pol em mm é: \", mm)\n"
      ],
      "metadata": {
        "id": "gYjXiLOn-aLw",
        "outputId": "6ff21a37-2bac-4587-bfbb-4ff8cd2cc4f2",
        "colab": {
          "base_uri": "https://localhost:8080/"
        }
      },
      "execution_count": null,
      "outputs": [
        {
          "output_type": "stream",
          "name": "stdout",
          "text": [
            "Digite valor em polegada: 2\n",
            "O valor Pol em mm é:  50.8\n"
          ]
        }
      ]
    },
    {
      "cell_type": "markdown",
      "source": [
        "## **Exercício 05: **\n",
        "\n",
        "\n",
        "---\n",
        "\n",
        "\n",
        "\n",
        "**Narrativa:**\n",
        "\n",
        "\n",
        "**Pseudocódigo:**\n",
        "\n",
        "\n",
        "**Fluxograma:**"
      ],
      "metadata": {
        "id": "ASOOrzYA_ng4"
      }
    },
    {
      "cell_type": "code",
      "source": [
        " from math import pi\n",
        " R = float(input(\"Digite o valor do raio: \"))\n",
        " Ve = (pi*R**3)/3\n",
        " print(\"O valor do volume da esfera é: \", Ve)"
      ],
      "metadata": {
        "id": "etUkYKmvBZjj",
        "outputId": "49a82d7f-3325-469c-88d3-48b25f8ce843",
        "colab": {
          "base_uri": "https://localhost:8080/"
        }
      },
      "execution_count": null,
      "outputs": [
        {
          "output_type": "stream",
          "name": "stdout",
          "text": [
            "Digite o valor do raio: 6\n",
            "O valor do volume da esfera é:  226.1946710584651\n"
          ]
        }
      ]
    },
    {
      "cell_type": "markdown",
      "source": [
        "## **Exercício 06**\n",
        "\n",
        "\n",
        "---\n",
        "\n",
        "\n",
        "\n",
        "**Narrativa: **\n",
        "\n",
        "**Pseudocódigo:**\n",
        "\n",
        "**Fluxograma: **\n",
        "\n",
        "\n"
      ],
      "metadata": {
        "id": "Ea4YOtkiDLfO"
      }
    },
    {
      "cell_type": "code",
      "source": [
        "from math import pi\n",
        "G = float(input(\"Digite o valor do grau q deseja converter: \"))\n",
        "Ra = (G*pi)/180\n",
        "print(\"O valor em radianos é: \", Ra)"
      ],
      "metadata": {
        "id": "mtnIj_iEDk2v",
        "outputId": "fa5c13d0-9811-419b-e779-0061d41f2950",
        "colab": {
          "base_uri": "https://localhost:8080/"
        }
      },
      "execution_count": null,
      "outputs": [
        {
          "output_type": "stream",
          "name": "stdout",
          "text": [
            "Digite o valor do grau q deseja converter: 8\n",
            "O valor em radianos é:  0.13962634015954636\n"
          ]
        }
      ]
    },
    {
      "cell_type": "markdown",
      "source": [
        "## **Exercício 07**\n",
        "\n",
        "\n",
        "---\n",
        "\n",
        "\n",
        "\n",
        "**Narrativa:**\n",
        "\n",
        "\n",
        "**Pseudocodigo:**\n",
        "\n",
        "**Fluxograma: **\n",
        "\n",
        "\n"
      ],
      "metadata": {
        "id": "x-eB1qKbEtTA"
      }
    },
    {
      "cell_type": "code",
      "source": [
        "from math import pi\n",
        "Ar = float(input(\"Digite o valor do ângulo em radianos: \"))\n",
        "Gr = (Ar*180)/pi\n",
        "print(\"O valor em graus é: \", Gr)"
      ],
      "metadata": {
        "id": "MRWs2JIDFKkL",
        "outputId": "e70236e9-bc62-4d89-f619-352724e3265f",
        "colab": {
          "base_uri": "https://localhost:8080/"
        }
      },
      "execution_count": null,
      "outputs": [
        {
          "output_type": "stream",
          "name": "stdout",
          "text": [
            "Digite o valor do ângulo em radianos: 5\n",
            "O valor em graus é:  286.4788975654116\n"
          ]
        }
      ]
    },
    {
      "cell_type": "markdown",
      "source": [
        "## **Exercício 08**\n",
        "\n",
        "\n",
        "---\n",
        "\n",
        "\n",
        "\n",
        "**Narratia:**\n",
        "\n",
        "Este programa converte um valor de ângulo dado em radianos para grados (uma unidade de medida de ângulos usada em alguns sistemas). O usuário é solicitado a inserir o valor de um ângulo em radianos, que é então convertido em grados usando a fórmula G = Ar*200/pi, onde G é o valor em grados e Ar é o valor em radianos. O resultado é exibido ao final.\n",
        "\n",
        "\n",
        "**Pseudocógido:**\n",
        "\n",
        "Início:\n",
        "\n",
        "    Importar a constante pi da biblioteca math\n",
        "    Exibir mensagem \"Digite o valor do ângulo em radianos: \"\n",
        "    Ler o valor de Ar (ângulo em radianos)\n",
        "    Calcular G usando a fórmula: G = (Ar * 200) / pi\n",
        "    Exibir o valor de G em grados\n",
        "  \n",
        "Fim.\n",
        "\n",
        "**Fluxograma**:\n",
        "\n",
        "1- Início\n",
        "\n",
        "2- Entrada de Dados\n",
        "   *Perguntar ao usuário o valor do ângulo em radianos.\n",
        "\n",
        "3- Processamento\n",
        "   *Calcular o valor de grados usando a fómula G = Ar*200/pi.\n",
        "\n",
        "4- Saída de Dados\n",
        "   *Exibir o resultado do cálculo em grados.\n",
        "\n",
        "5- Fim.\n"
      ],
      "metadata": {
        "id": "k0edBDCaGO1K"
      }
    },
    {
      "cell_type": "code",
      "source": [
        "from math import pi\n",
        "Ar = float(input(\"Digite o valor do angulo radiano : \"))\n",
        "G = (Ar*200)/pi\n",
        "print(\"O valor em grados é: \", G)"
      ],
      "metadata": {
        "id": "hT1O_I2ZHs4z",
        "outputId": "c12eae0e-0c8e-4903-af7a-72c1140efe3d",
        "colab": {
          "base_uri": "https://localhost:8080/"
        }
      },
      "execution_count": null,
      "outputs": [
        {
          "output_type": "stream",
          "name": "stdout",
          "text": [
            "Digite o valor do angulo radiano : 5\n",
            "O valor em grados é:  318.3098861837907\n"
          ]
        }
      ]
    }
  ],
  "metadata": {
    "colab": {
      "name": "Olá, este é o Colaboratory",
      "toc_visible": true,
      "provenance": [],
      "include_colab_link": true
    },
    "kernelspec": {
      "display_name": "Python 3",
      "name": "python3"
    }
  },
  "nbformat": 4,
  "nbformat_minor": 0
}